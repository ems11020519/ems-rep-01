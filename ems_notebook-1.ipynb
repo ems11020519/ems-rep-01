{
 "cells": [
  {
   "cell_type": "markdown",
   "id": "bcfef864-778a-435e-85fb-be2f7f84d562",
   "metadata": {},
   "source": [
    "# PRG1-Test"
   ]
  },
  {
   "cell_type": "code",
   "execution_count": 2,
   "id": "db5333e4-ba00-4303-94ab-4bde77b881ed",
   "metadata": {},
   "outputs": [
    {
     "name": "stdout",
     "output_type": "stream",
     "text": [
      "Bonjour prg test ems\n"
     ]
    }
   ],
   "source": [
    "print(\"Bonjour prg test ems\")"
   ]
  },
  {
   "cell_type": "code",
   "execution_count": 4,
   "id": "403b731e-8326-429d-8428-c98ed1d19272",
   "metadata": {},
   "outputs": [
    {
     "name": "stdout",
     "output_type": "stream",
     "text": [
      "ceci est un test d'un prg python\n"
     ]
    }
   ],
   "source": [
    "print(\"ceci est un test d'un prg python\")"
   ]
  },
  {
   "cell_type": "code",
   "execution_count": null,
   "id": "51582258-e8c6-4b7a-8ea1-7f49e177fe6d",
   "metadata": {},
   "outputs": [],
   "source": [
    "print(\"donner un chiffre entre 1 et 10\")\n"
   ]
  }
 ],
 "metadata": {
  "kernelspec": {
   "display_name": "Python [conda env:base] *",
   "language": "python",
   "name": "conda-base-py"
  },
  "language_info": {
   "codemirror_mode": {
    "name": "ipython",
    "version": 3
   },
   "file_extension": ".py",
   "mimetype": "text/x-python",
   "name": "python",
   "nbconvert_exporter": "python",
   "pygments_lexer": "ipython3",
   "version": "3.12.7"
  }
 },
 "nbformat": 4,
 "nbformat_minor": 5
}
