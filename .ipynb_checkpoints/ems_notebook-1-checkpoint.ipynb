{
 "cells": [
  {
   "cell_type": "markdown",
   "id": "bcfef864-778a-435e-85fb-be2f7f84d562",
   "metadata": {},
   "source": [
    "# PRG1-Test"
   ]
  },
  {
   "cell_type": "code",
   "execution_count": 2,
   "id": "db5333e4-ba00-4303-94ab-4bde77b881ed",
   "metadata": {},
   "outputs": [
    {
     "name": "stdout",
     "output_type": "stream",
     "text": [
      "Bonjour prg test ems\n"
     ]
    }
   ],
   "source": [
    "print(\"Bonjour prg test ems\")"
   ]
  },
  {
   "cell_type": "code",
   "execution_count": 4,
   "id": "403b731e-8326-429d-8428-c98ed1d19272",
   "metadata": {},
   "outputs": [
    {
     "name": "stdout",
     "output_type": "stream",
     "text": [
      "ceci est un test d'un prg python\n"
     ]
    }
   ],
   "source": [
    "print(\"ceci est un test d'un prg python\")"
   ]
  },
  {
   "cell_type": "code",
   "execution_count": null,
   "id": "51582258-e8c6-4b7a-8ea1-7f49e177fe6d",
   "metadata": {},
   "outputs": [],
   "source": [
    "print(\"donner un chiffre entre 1 et 10\")\n"
   ]
  },
  {
   "cell_type": "code",
   "execution_count": 1,
   "id": "7ba5d9c5-7eb4-49ef-975b-9a27fca09821",
   "metadata": {},
   "outputs": [
    {
     "name": "stdout",
     "output_type": "stream",
     "text": [
      "fadel va continuer le programme\n"
     ]
    }
   ],
   "source": [
    "print(\"fadel va continuer le programme\")"
   ]
  },
  {
   "cell_type": "code",
   "execution_count": null,
   "id": "ecfe7caa-f6c5-4fd5-9cc9-d5fa62a999d6",
   "metadata": {},
   "outputs": [],
   "source": []
  }
 ],
 "metadata": {
  "kernelspec": {
   "display_name": "Python 3 (ipykernel)",
   "language": "python",
   "name": "python3"
  },
  "language_info": {
   "codemirror_mode": {
    "name": "ipython",
    "version": 3
   },
   "file_extension": ".py",
   "mimetype": "text/x-python",
   "name": "python",
   "nbconvert_exporter": "python",
   "pygments_lexer": "ipython3",
   "version": "3.10.12"
  }
 },
 "nbformat": 4,
 "nbformat_minor": 5
}
